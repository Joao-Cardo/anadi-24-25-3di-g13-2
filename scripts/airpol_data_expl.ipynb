{
 "cells": [
  {
   "cell_type": "code",
   "execution_count": 1,
   "id": "09680681",
   "metadata": {},
   "outputs": [],
   "source": [
    "# Imports\n",
    "import pandas as pd\n",
    "import numpy as np\n",
    "import matplotlib.pyplot as plt\n",
    "import seaborn as sns"
   ]
  },
  {
   "cell_type": "code",
   "execution_count": 6,
   "id": "6ef5f601",
   "metadata": {},
   "outputs": [
    {
     "name": "stdout",
     "output_type": "stream",
     "text": [
      "<class 'pandas.core.frame.DataFrame'>\n",
      "RangeIndex: 49140 entries, 0 to 49139\n",
      "Data columns (total 8 columns):\n",
      " #   Column                        Non-Null Count  Dtype  \n",
      "---  ------                        --------------  -----  \n",
      " 0   Country                       49140 non-null  object \n",
      " 1   NUTS_Code                     49140 non-null  object \n",
      " 2   Air_Pollutant                 49140 non-null  object \n",
      " 3   Outcome                       49140 non-null  object \n",
      " 4   Affected_Population           49140 non-null  float64\n",
      " 5   Populated_Area[km2]           49140 non-null  float64\n",
      " 6   Air_Pollution_Average[ug/m3]  49140 non-null  float64\n",
      " 7   Value                         49140 non-null  float64\n",
      "dtypes: float64(4), object(4)\n",
      "memory usage: 3.0+ MB\n"
     ]
    },
    {
     "data": {
      "application/vnd.microsoft.datawrangler.viewer.v0+json": {
       "columns": [
        {
         "name": "index",
         "rawType": "object",
         "type": "string"
        },
        {
         "name": "Affected_Population",
         "rawType": "float64",
         "type": "float"
        },
        {
         "name": "Populated_Area[km2]",
         "rawType": "float64",
         "type": "float"
        },
        {
         "name": "Air_Pollution_Average[ug/m3]",
         "rawType": "float64",
         "type": "float"
        },
        {
         "name": "Value",
         "rawType": "float64",
         "type": "float"
        }
       ],
       "ref": "01d4ee7d-3e3e-4f9d-83db-212b4d1efa9b",
       "rows": [
        [
         "count",
         "49140.0",
         "49140.0",
         "49140.0",
         "49140.0"
        ],
        [
         "mean",
         "1023691.7679487179",
         "6534.42584045584",
         "15.138166463166463",
         "366.7986568986569"
        ],
        [
         "std",
         "9085726.39366857",
         "56616.792012550155",
         "22.57936001987548",
         "5494.481929296712"
        ],
        [
         "min",
         "2674.0",
         "2.0",
         "0.1",
         "0.0"
        ],
        [
         "25%",
         "106904.0",
         "569.7",
         "7.2",
         "3.0"
        ],
        [
         "50%",
         "238828.0",
         "1340.1",
         "8.9",
         "23.0"
        ],
        [
         "75%",
         "598880.0",
         "4215.2",
         "11.4",
         "112.0"
        ],
        [
         "max",
         "468062649.0",
         "2687567.7",
         "125.7",
         "740933.0"
        ]
       ],
       "shape": {
        "columns": 4,
        "rows": 8
       }
      },
      "text/html": [
       "<div>\n",
       "<style scoped>\n",
       "    .dataframe tbody tr th:only-of-type {\n",
       "        vertical-align: middle;\n",
       "    }\n",
       "\n",
       "    .dataframe tbody tr th {\n",
       "        vertical-align: top;\n",
       "    }\n",
       "\n",
       "    .dataframe thead th {\n",
       "        text-align: right;\n",
       "    }\n",
       "</style>\n",
       "<table border=\"1\" class=\"dataframe\">\n",
       "  <thead>\n",
       "    <tr style=\"text-align: right;\">\n",
       "      <th></th>\n",
       "      <th>Affected_Population</th>\n",
       "      <th>Populated_Area[km2]</th>\n",
       "      <th>Air_Pollution_Average[ug/m3]</th>\n",
       "      <th>Value</th>\n",
       "    </tr>\n",
       "  </thead>\n",
       "  <tbody>\n",
       "    <tr>\n",
       "      <th>count</th>\n",
       "      <td>4.914000e+04</td>\n",
       "      <td>4.914000e+04</td>\n",
       "      <td>49140.000000</td>\n",
       "      <td>49140.000000</td>\n",
       "    </tr>\n",
       "    <tr>\n",
       "      <th>mean</th>\n",
       "      <td>1.023692e+06</td>\n",
       "      <td>6.534426e+03</td>\n",
       "      <td>15.138166</td>\n",
       "      <td>366.798657</td>\n",
       "    </tr>\n",
       "    <tr>\n",
       "      <th>std</th>\n",
       "      <td>9.085726e+06</td>\n",
       "      <td>5.661679e+04</td>\n",
       "      <td>22.579360</td>\n",
       "      <td>5494.481929</td>\n",
       "    </tr>\n",
       "    <tr>\n",
       "      <th>min</th>\n",
       "      <td>2.674000e+03</td>\n",
       "      <td>2.000000e+00</td>\n",
       "      <td>0.100000</td>\n",
       "      <td>0.000000</td>\n",
       "    </tr>\n",
       "    <tr>\n",
       "      <th>25%</th>\n",
       "      <td>1.069040e+05</td>\n",
       "      <td>5.697000e+02</td>\n",
       "      <td>7.200000</td>\n",
       "      <td>3.000000</td>\n",
       "    </tr>\n",
       "    <tr>\n",
       "      <th>50%</th>\n",
       "      <td>2.388280e+05</td>\n",
       "      <td>1.340100e+03</td>\n",
       "      <td>8.900000</td>\n",
       "      <td>23.000000</td>\n",
       "    </tr>\n",
       "    <tr>\n",
       "      <th>75%</th>\n",
       "      <td>5.988800e+05</td>\n",
       "      <td>4.215200e+03</td>\n",
       "      <td>11.400000</td>\n",
       "      <td>112.000000</td>\n",
       "    </tr>\n",
       "    <tr>\n",
       "      <th>max</th>\n",
       "      <td>4.680626e+08</td>\n",
       "      <td>2.687568e+06</td>\n",
       "      <td>125.700000</td>\n",
       "      <td>740933.000000</td>\n",
       "    </tr>\n",
       "  </tbody>\n",
       "</table>\n",
       "</div>"
      ],
      "text/plain": [
       "       Affected_Population  Populated_Area[km2]  Air_Pollution_Average[ug/m3]  \\\n",
       "count         4.914000e+04         4.914000e+04                  49140.000000   \n",
       "mean          1.023692e+06         6.534426e+03                     15.138166   \n",
       "std           9.085726e+06         5.661679e+04                     22.579360   \n",
       "min           2.674000e+03         2.000000e+00                      0.100000   \n",
       "25%           1.069040e+05         5.697000e+02                      7.200000   \n",
       "50%           2.388280e+05         1.340100e+03                      8.900000   \n",
       "75%           5.988800e+05         4.215200e+03                     11.400000   \n",
       "max           4.680626e+08         2.687568e+06                    125.700000   \n",
       "\n",
       "               Value  \n",
       "count   49140.000000  \n",
       "mean      366.798657  \n",
       "std      5494.481929  \n",
       "min         0.000000  \n",
       "25%         3.000000  \n",
       "50%        23.000000  \n",
       "75%       112.000000  \n",
       "max    740933.000000  "
      ]
     },
     "execution_count": 6,
     "metadata": {},
     "output_type": "execute_result"
    }
   ],
   "source": [
    "# Dataset load, info and data summary\n",
    "df = pd.read_csv('../data/AIRPOL_data.csv', delimiter=\";\", header=0, usecols=[*range(0,8)], decimal=',')\n",
    "df.info()\n",
    "df.describe()"
   ]
  },
  {
   "cell_type": "markdown",
   "id": "f32c69b5",
   "metadata": {},
   "source": [
    "### Graphic exploration"
   ]
  },
  {
   "cell_type": "code",
   "execution_count": null,
   "id": "bde4c380",
   "metadata": {},
   "outputs": [],
   "source": []
  }
 ],
 "metadata": {
  "kernelspec": {
   "display_name": "base",
   "language": "python",
   "name": "python3"
  },
  "language_info": {
   "codemirror_mode": {
    "name": "ipython",
    "version": 3
   },
   "file_extension": ".py",
   "mimetype": "text/x-python",
   "name": "python",
   "nbconvert_exporter": "python",
   "pygments_lexer": "ipython3",
   "version": "3.12.7"
  }
 },
 "nbformat": 4,
 "nbformat_minor": 5
}
